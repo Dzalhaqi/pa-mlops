{
 "cells": [
  {
   "cell_type": "markdown",
   "id": "e3c4c788",
   "metadata": {},
   "source": [
    "## Predict Electricity Production using Fuzzy Time Series\n",
    "### Proyek Akhir Semester Mata Kuliah Praktikum Data Mining"
   ]
  },
  {
   "cell_type": "markdown",
   "id": "a19c024d",
   "metadata": {},
   "source": [
    "### 1. Data Preprocessing"
   ]
  },
  {
   "cell_type": "code",
   "execution_count": 1,
   "id": "e96febd8",
   "metadata": {},
   "outputs": [],
   "source": [
    "import warnings\n",
    "from pyFTS.partitioners import Grid\n",
    "warnings.filterwarnings('ignore')\n",
    "import numpy as np\n",
    "import pandas as pd\n",
    "import matplotlib.pyplot as plt\n",
    "plt.style.use('fivethirtyeight') \n",
    "from pylab import rcParams\n",
    "rcParams['figure.figsize'] = 10, 7"
   ]
  },
  {
   "cell_type": "code",
   "execution_count": 2,
   "id": "64b07532",
   "metadata": {},
   "outputs": [],
   "source": [
    "# dataset = pd.read_csv(\"MES_0223.csv\",delimiter=\",\", encoding='cp1252')\n",
    "dataset = pd.read_csv(\"./dataset/bulanan-ekspor-impor.csv\")"
   ]
  },
  {
   "cell_type": "code",
   "execution_count": 3,
   "id": "f4227b78",
   "metadata": {},
   "outputs": [
    {
     "data": {
      "text/html": [
       "<div>\n",
       "<style scoped>\n",
       "    .dataframe tbody tr th:only-of-type {\n",
       "        vertical-align: middle;\n",
       "    }\n",
       "\n",
       "    .dataframe tbody tr th {\n",
       "        vertical-align: top;\n",
       "    }\n",
       "\n",
       "    .dataframe thead th {\n",
       "        text-align: right;\n",
       "    }\n",
       "</style>\n",
       "<table border=\"1\" class=\"dataframe\">\n",
       "  <thead>\n",
       "    <tr style=\"text-align: right;\">\n",
       "      <th></th>\n",
       "      <th>Bulan-Tahun</th>\n",
       "      <th>Nilai-Ekspor</th>\n",
       "      <th>Berat-Ekspor</th>\n",
       "      <th>Nilai-Impor</th>\n",
       "      <th>Berat-Impor</th>\n",
       "    </tr>\n",
       "  </thead>\n",
       "  <tbody>\n",
       "    <tr>\n",
       "      <th>0</th>\n",
       "      <td>2014-01-01</td>\n",
       "      <td>1.447229e+10</td>\n",
       "      <td>4.915438e+10</td>\n",
       "      <td>1.491623e+10</td>\n",
       "      <td>11590996964</td>\n",
       "    </tr>\n",
       "    <tr>\n",
       "      <th>1</th>\n",
       "      <td>2014-02-01</td>\n",
       "      <td>1.463409e+10</td>\n",
       "      <td>4.341624e+10</td>\n",
       "      <td>1.379066e+10</td>\n",
       "      <td>10640029636</td>\n",
       "    </tr>\n",
       "    <tr>\n",
       "      <th>2</th>\n",
       "      <td>2014-03-01</td>\n",
       "      <td>1.519263e+10</td>\n",
       "      <td>4.929496e+10</td>\n",
       "      <td>1.452372e+10</td>\n",
       "      <td>11439923450</td>\n",
       "    </tr>\n",
       "    <tr>\n",
       "      <th>3</th>\n",
       "      <td>2014-04-01</td>\n",
       "      <td>1.429247e+10</td>\n",
       "      <td>4.554173e+10</td>\n",
       "      <td>1.625498e+10</td>\n",
       "      <td>13005419405</td>\n",
       "    </tr>\n",
       "    <tr>\n",
       "      <th>4</th>\n",
       "      <td>2014-05-01</td>\n",
       "      <td>1.482360e+10</td>\n",
       "      <td>4.741763e+10</td>\n",
       "      <td>1.477034e+10</td>\n",
       "      <td>12197088101</td>\n",
       "    </tr>\n",
       "    <tr>\n",
       "      <th>...</th>\n",
       "      <td>...</td>\n",
       "      <td>...</td>\n",
       "      <td>...</td>\n",
       "      <td>...</td>\n",
       "      <td>...</td>\n",
       "    </tr>\n",
       "    <tr>\n",
       "      <th>107</th>\n",
       "      <td>2022-12-01</td>\n",
       "      <td>2.382786e+10</td>\n",
       "      <td>5.478810e+10</td>\n",
       "      <td>1.986306e+10</td>\n",
       "      <td>17445166404</td>\n",
       "    </tr>\n",
       "    <tr>\n",
       "      <th>108</th>\n",
       "      <td>2023-01-01</td>\n",
       "      <td>2.232384e+10</td>\n",
       "      <td>5.141262e+10</td>\n",
       "      <td>1.844293e+10</td>\n",
       "      <td>15297835516</td>\n",
       "    </tr>\n",
       "    <tr>\n",
       "      <th>109</th>\n",
       "      <td>2023-02-01</td>\n",
       "      <td>2.132128e+10</td>\n",
       "      <td>5.315484e+10</td>\n",
       "      <td>1.591917e+10</td>\n",
       "      <td>13357927312</td>\n",
       "    </tr>\n",
       "    <tr>\n",
       "      <th>110</th>\n",
       "      <td>2023-03-01</td>\n",
       "      <td>2.341599e+10</td>\n",
       "      <td>6.396040e+10</td>\n",
       "      <td>2.058805e+10</td>\n",
       "      <td>17338475865</td>\n",
       "    </tr>\n",
       "    <tr>\n",
       "      <th>111</th>\n",
       "      <td>2023-04-01</td>\n",
       "      <td>1.928408e+10</td>\n",
       "      <td>5.618826e+10</td>\n",
       "      <td>1.534761e+10</td>\n",
       "      <td>13898787066</td>\n",
       "    </tr>\n",
       "  </tbody>\n",
       "</table>\n",
       "<p>112 rows × 5 columns</p>\n",
       "</div>"
      ],
      "text/plain": [
       "    Bulan-Tahun  Nilai-Ekspor  Berat-Ekspor   Nilai-Impor  Berat-Impor\n",
       "0    2014-01-01  1.447229e+10  4.915438e+10  1.491623e+10  11590996964\n",
       "1    2014-02-01  1.463409e+10  4.341624e+10  1.379066e+10  10640029636\n",
       "2    2014-03-01  1.519263e+10  4.929496e+10  1.452372e+10  11439923450\n",
       "3    2014-04-01  1.429247e+10  4.554173e+10  1.625498e+10  13005419405\n",
       "4    2014-05-01  1.482360e+10  4.741763e+10  1.477034e+10  12197088101\n",
       "..          ...           ...           ...           ...          ...\n",
       "107  2022-12-01  2.382786e+10  5.478810e+10  1.986306e+10  17445166404\n",
       "108  2023-01-01  2.232384e+10  5.141262e+10  1.844293e+10  15297835516\n",
       "109  2023-02-01  2.132128e+10  5.315484e+10  1.591917e+10  13357927312\n",
       "110  2023-03-01  2.341599e+10  6.396040e+10  2.058805e+10  17338475865\n",
       "111  2023-04-01  1.928408e+10  5.618826e+10  1.534761e+10  13898787066\n",
       "\n",
       "[112 rows x 5 columns]"
      ]
     },
     "execution_count": 3,
     "metadata": {},
     "output_type": "execute_result"
    }
   ],
   "source": [
    "dataset"
   ]
  },
  {
   "cell_type": "code",
   "execution_count": 4,
   "id": "364802cb",
   "metadata": {},
   "outputs": [],
   "source": [
    "df = dataset.dropna()"
   ]
  },
  {
   "cell_type": "code",
   "execution_count": 5,
   "id": "44827665",
   "metadata": {},
   "outputs": [
    {
     "data": {
      "text/html": [
       "<div>\n",
       "<style scoped>\n",
       "    .dataframe tbody tr th:only-of-type {\n",
       "        vertical-align: middle;\n",
       "    }\n",
       "\n",
       "    .dataframe tbody tr th {\n",
       "        vertical-align: top;\n",
       "    }\n",
       "\n",
       "    .dataframe thead th {\n",
       "        text-align: right;\n",
       "    }\n",
       "</style>\n",
       "<table border=\"1\" class=\"dataframe\">\n",
       "  <thead>\n",
       "    <tr style=\"text-align: right;\">\n",
       "      <th></th>\n",
       "      <th>Bulan-Tahun</th>\n",
       "      <th>Nilai-Ekspor</th>\n",
       "      <th>Berat-Ekspor</th>\n",
       "      <th>Nilai-Impor</th>\n",
       "      <th>Berat-Impor</th>\n",
       "    </tr>\n",
       "  </thead>\n",
       "  <tbody>\n",
       "    <tr>\n",
       "      <th>0</th>\n",
       "      <td>2014-01-01</td>\n",
       "      <td>1.447229e+10</td>\n",
       "      <td>4.915438e+10</td>\n",
       "      <td>1.491623e+10</td>\n",
       "      <td>11590996964</td>\n",
       "    </tr>\n",
       "    <tr>\n",
       "      <th>1</th>\n",
       "      <td>2014-02-01</td>\n",
       "      <td>1.463409e+10</td>\n",
       "      <td>4.341624e+10</td>\n",
       "      <td>1.379066e+10</td>\n",
       "      <td>10640029636</td>\n",
       "    </tr>\n",
       "    <tr>\n",
       "      <th>2</th>\n",
       "      <td>2014-03-01</td>\n",
       "      <td>1.519263e+10</td>\n",
       "      <td>4.929496e+10</td>\n",
       "      <td>1.452372e+10</td>\n",
       "      <td>11439923450</td>\n",
       "    </tr>\n",
       "    <tr>\n",
       "      <th>3</th>\n",
       "      <td>2014-04-01</td>\n",
       "      <td>1.429247e+10</td>\n",
       "      <td>4.554173e+10</td>\n",
       "      <td>1.625498e+10</td>\n",
       "      <td>13005419405</td>\n",
       "    </tr>\n",
       "    <tr>\n",
       "      <th>4</th>\n",
       "      <td>2014-05-01</td>\n",
       "      <td>1.482360e+10</td>\n",
       "      <td>4.741763e+10</td>\n",
       "      <td>1.477034e+10</td>\n",
       "      <td>12197088101</td>\n",
       "    </tr>\n",
       "    <tr>\n",
       "      <th>...</th>\n",
       "      <td>...</td>\n",
       "      <td>...</td>\n",
       "      <td>...</td>\n",
       "      <td>...</td>\n",
       "      <td>...</td>\n",
       "    </tr>\n",
       "    <tr>\n",
       "      <th>107</th>\n",
       "      <td>2022-12-01</td>\n",
       "      <td>2.382786e+10</td>\n",
       "      <td>5.478810e+10</td>\n",
       "      <td>1.986306e+10</td>\n",
       "      <td>17445166404</td>\n",
       "    </tr>\n",
       "    <tr>\n",
       "      <th>108</th>\n",
       "      <td>2023-01-01</td>\n",
       "      <td>2.232384e+10</td>\n",
       "      <td>5.141262e+10</td>\n",
       "      <td>1.844293e+10</td>\n",
       "      <td>15297835516</td>\n",
       "    </tr>\n",
       "    <tr>\n",
       "      <th>109</th>\n",
       "      <td>2023-02-01</td>\n",
       "      <td>2.132128e+10</td>\n",
       "      <td>5.315484e+10</td>\n",
       "      <td>1.591917e+10</td>\n",
       "      <td>13357927312</td>\n",
       "    </tr>\n",
       "    <tr>\n",
       "      <th>110</th>\n",
       "      <td>2023-03-01</td>\n",
       "      <td>2.341599e+10</td>\n",
       "      <td>6.396040e+10</td>\n",
       "      <td>2.058805e+10</td>\n",
       "      <td>17338475865</td>\n",
       "    </tr>\n",
       "    <tr>\n",
       "      <th>111</th>\n",
       "      <td>2023-04-01</td>\n",
       "      <td>1.928408e+10</td>\n",
       "      <td>5.618826e+10</td>\n",
       "      <td>1.534761e+10</td>\n",
       "      <td>13898787066</td>\n",
       "    </tr>\n",
       "  </tbody>\n",
       "</table>\n",
       "<p>112 rows × 5 columns</p>\n",
       "</div>"
      ],
      "text/plain": [
       "    Bulan-Tahun  Nilai-Ekspor  Berat-Ekspor   Nilai-Impor  Berat-Impor\n",
       "0    2014-01-01  1.447229e+10  4.915438e+10  1.491623e+10  11590996964\n",
       "1    2014-02-01  1.463409e+10  4.341624e+10  1.379066e+10  10640029636\n",
       "2    2014-03-01  1.519263e+10  4.929496e+10  1.452372e+10  11439923450\n",
       "3    2014-04-01  1.429247e+10  4.554173e+10  1.625498e+10  13005419405\n",
       "4    2014-05-01  1.482360e+10  4.741763e+10  1.477034e+10  12197088101\n",
       "..          ...           ...           ...           ...          ...\n",
       "107  2022-12-01  2.382786e+10  5.478810e+10  1.986306e+10  17445166404\n",
       "108  2023-01-01  2.232384e+10  5.141262e+10  1.844293e+10  15297835516\n",
       "109  2023-02-01  2.132128e+10  5.315484e+10  1.591917e+10  13357927312\n",
       "110  2023-03-01  2.341599e+10  6.396040e+10  2.058805e+10  17338475865\n",
       "111  2023-04-01  1.928408e+10  5.618826e+10  1.534761e+10  13898787066\n",
       "\n",
       "[112 rows x 5 columns]"
      ]
     },
     "execution_count": 5,
     "metadata": {},
     "output_type": "execute_result"
    }
   ],
   "source": [
    "df"
   ]
  },
  {
   "cell_type": "markdown",
   "id": "a5a62c65",
   "metadata": {},
   "source": [
    "## 3. FTS"
   ]
  },
  {
   "cell_type": "code",
   "execution_count": 6,
   "id": "3ddd4328",
   "metadata": {},
   "outputs": [
    {
     "data": {
      "text/html": [
       "<div>\n",
       "<style scoped>\n",
       "    .dataframe tbody tr th:only-of-type {\n",
       "        vertical-align: middle;\n",
       "    }\n",
       "\n",
       "    .dataframe tbody tr th {\n",
       "        vertical-align: top;\n",
       "    }\n",
       "\n",
       "    .dataframe thead th {\n",
       "        text-align: right;\n",
       "    }\n",
       "</style>\n",
       "<table border=\"1\" class=\"dataframe\">\n",
       "  <thead>\n",
       "    <tr style=\"text-align: right;\">\n",
       "      <th></th>\n",
       "      <th>Bulan-Tahun</th>\n",
       "      <th>Nilai-Ekspor</th>\n",
       "      <th>Berat-Ekspor</th>\n",
       "      <th>Nilai-Impor</th>\n",
       "      <th>Berat-Impor</th>\n",
       "    </tr>\n",
       "  </thead>\n",
       "  <tbody>\n",
       "    <tr>\n",
       "      <th>0</th>\n",
       "      <td>2014-01-01</td>\n",
       "      <td>1.447229e+10</td>\n",
       "      <td>4.915438e+10</td>\n",
       "      <td>1.491623e+10</td>\n",
       "      <td>11590996964</td>\n",
       "    </tr>\n",
       "    <tr>\n",
       "      <th>1</th>\n",
       "      <td>2014-02-01</td>\n",
       "      <td>1.463409e+10</td>\n",
       "      <td>4.341624e+10</td>\n",
       "      <td>1.379066e+10</td>\n",
       "      <td>10640029636</td>\n",
       "    </tr>\n",
       "    <tr>\n",
       "      <th>2</th>\n",
       "      <td>2014-03-01</td>\n",
       "      <td>1.519263e+10</td>\n",
       "      <td>4.929496e+10</td>\n",
       "      <td>1.452372e+10</td>\n",
       "      <td>11439923450</td>\n",
       "    </tr>\n",
       "    <tr>\n",
       "      <th>3</th>\n",
       "      <td>2014-04-01</td>\n",
       "      <td>1.429247e+10</td>\n",
       "      <td>4.554173e+10</td>\n",
       "      <td>1.625498e+10</td>\n",
       "      <td>13005419405</td>\n",
       "    </tr>\n",
       "    <tr>\n",
       "      <th>4</th>\n",
       "      <td>2014-05-01</td>\n",
       "      <td>1.482360e+10</td>\n",
       "      <td>4.741763e+10</td>\n",
       "      <td>1.477034e+10</td>\n",
       "      <td>12197088101</td>\n",
       "    </tr>\n",
       "    <tr>\n",
       "      <th>...</th>\n",
       "      <td>...</td>\n",
       "      <td>...</td>\n",
       "      <td>...</td>\n",
       "      <td>...</td>\n",
       "      <td>...</td>\n",
       "    </tr>\n",
       "    <tr>\n",
       "      <th>107</th>\n",
       "      <td>2022-12-01</td>\n",
       "      <td>2.382786e+10</td>\n",
       "      <td>5.478810e+10</td>\n",
       "      <td>1.986306e+10</td>\n",
       "      <td>17445166404</td>\n",
       "    </tr>\n",
       "    <tr>\n",
       "      <th>108</th>\n",
       "      <td>2023-01-01</td>\n",
       "      <td>2.232384e+10</td>\n",
       "      <td>5.141262e+10</td>\n",
       "      <td>1.844293e+10</td>\n",
       "      <td>15297835516</td>\n",
       "    </tr>\n",
       "    <tr>\n",
       "      <th>109</th>\n",
       "      <td>2023-02-01</td>\n",
       "      <td>2.132128e+10</td>\n",
       "      <td>5.315484e+10</td>\n",
       "      <td>1.591917e+10</td>\n",
       "      <td>13357927312</td>\n",
       "    </tr>\n",
       "    <tr>\n",
       "      <th>110</th>\n",
       "      <td>2023-03-01</td>\n",
       "      <td>2.341599e+10</td>\n",
       "      <td>6.396040e+10</td>\n",
       "      <td>2.058805e+10</td>\n",
       "      <td>17338475865</td>\n",
       "    </tr>\n",
       "    <tr>\n",
       "      <th>111</th>\n",
       "      <td>2023-04-01</td>\n",
       "      <td>1.928408e+10</td>\n",
       "      <td>5.618826e+10</td>\n",
       "      <td>1.534761e+10</td>\n",
       "      <td>13898787066</td>\n",
       "    </tr>\n",
       "  </tbody>\n",
       "</table>\n",
       "<p>112 rows × 5 columns</p>\n",
       "</div>"
      ],
      "text/plain": [
       "    Bulan-Tahun  Nilai-Ekspor  Berat-Ekspor   Nilai-Impor  Berat-Impor\n",
       "0    2014-01-01  1.447229e+10  4.915438e+10  1.491623e+10  11590996964\n",
       "1    2014-02-01  1.463409e+10  4.341624e+10  1.379066e+10  10640029636\n",
       "2    2014-03-01  1.519263e+10  4.929496e+10  1.452372e+10  11439923450\n",
       "3    2014-04-01  1.429247e+10  4.554173e+10  1.625498e+10  13005419405\n",
       "4    2014-05-01  1.482360e+10  4.741763e+10  1.477034e+10  12197088101\n",
       "..          ...           ...           ...           ...          ...\n",
       "107  2022-12-01  2.382786e+10  5.478810e+10  1.986306e+10  17445166404\n",
       "108  2023-01-01  2.232384e+10  5.141262e+10  1.844293e+10  15297835516\n",
       "109  2023-02-01  2.132128e+10  5.315484e+10  1.591917e+10  13357927312\n",
       "110  2023-03-01  2.341599e+10  6.396040e+10  2.058805e+10  17338475865\n",
       "111  2023-04-01  1.928408e+10  5.618826e+10  1.534761e+10  13898787066\n",
       "\n",
       "[112 rows x 5 columns]"
      ]
     },
     "execution_count": 6,
     "metadata": {},
     "output_type": "execute_result"
    }
   ],
   "source": [
    "df"
   ]
  },
  {
   "cell_type": "markdown",
   "id": "e97d19af",
   "metadata": {},
   "source": [
    "## A. Negara dengan Kelas Produksi Rendah"
   ]
  },
  {
   "cell_type": "code",
   "execution_count": 269,
   "id": "aba2a794",
   "metadata": {},
   "outputs": [],
   "source": [
    "# slovenia = df[df['Country'] == 'Slovenia']['Value'].values\n",
    "# time_slovenia = df[df['Country'] == 'Slovenia']['Time'].values"
   ]
  },
  {
   "cell_type": "code",
   "execution_count": 7,
   "id": "d902fd10",
   "metadata": {},
   "outputs": [
    {
     "data": {
      "application/vnd.plotly.v1+json": {
       "config": {
        "plotlyServerURL": "https://plot.ly"
       },
       "data": [
        {
         "hovertemplate": "x=%{x}<br>y=%{y}<extra></extra>",
         "legendgroup": "",
         "line": {
          "color": "#636efa",
          "dash": "solid"
         },
         "marker": {
          "symbol": "circle"
         },
         "mode": "lines",
         "name": "",
         "orientation": "v",
         "showlegend": false,
         "type": "scatter",
         "x": [
          "2014-01-01",
          "2014-02-01",
          "2014-03-01",
          "2014-04-01",
          "2014-05-01",
          "2014-06-01",
          "2014-07-01",
          "2014-08-01",
          "2014-09-01",
          "2014-10-01",
          "2014-11-01",
          "2014-12-01",
          "2015-01-01",
          "2015-02-01",
          "2015-03-01",
          "2015-04-01",
          "2015-05-01",
          "2015-06-01",
          "2015-07-01",
          "2015-08-01",
          "2015-09-01",
          "2015-10-01",
          "2015-11-01",
          "2015-12-01",
          "2016-01-01",
          "2016-02-01",
          "2016-03-01",
          "2016-04-01",
          "2016-05-01",
          "2016-06-01",
          "2016-07-01",
          "2016-08-01",
          "2016-09-01",
          "2016-10-01",
          "2016-11-01",
          "2016-12-01",
          "2017-01-01",
          "2017-02-01",
          "2017-03-01",
          "2017-04-01",
          "2017-05-01",
          "2017-06-01",
          "2017-07-01",
          "2017-08-01",
          "2017-09-01",
          "2017-10-01",
          "2017-11-01",
          "2017-12-01",
          "2018-01-01",
          "2018-02-01",
          "2018-03-01",
          "2018-04-01",
          "2018-05-01",
          "2018-06-01",
          "2018-07-01",
          "2018-08-01",
          "2018-09-01",
          "2018-10-01",
          "2018-11-01",
          "2018-12-01",
          "2019-01-01",
          "2019-02-01",
          "2019-03-01",
          "2019-04-01",
          "2019-05-01",
          "2019-06-01",
          "2019-07-01",
          "2019-08-01",
          "2019-09-01",
          "2019-10-01",
          "2019-11-01",
          "2019-12-01",
          "2020-01-01",
          "2020-02-01",
          "2020-03-01",
          "2020-04-01",
          "2020-05-01",
          "2020-06-01",
          "2020-07-01",
          "2020-08-01",
          "2020-09-01",
          "2020-10-01",
          "2020-11-01",
          "2020-12-01",
          "2021-01-01",
          "2021-02-01",
          "2021-03-01",
          "2021-04-01",
          "2021-05-01",
          "2021-06-01",
          "2021-07-01",
          "2021-08-01",
          "2021-09-01",
          "2021-10-01",
          "2021-11-01",
          "2021-12-01",
          "2022-01-01",
          "2022-02-01",
          "2022-03-01",
          "2022-04-01",
          "2022-05-01",
          "2022-06-01",
          "2022-07-01",
          "2022-08-01",
          "2022-09-01",
          "2022-10-01",
          "2022-11-01",
          "2022-12-01",
          "2023-01-01",
          "2023-02-01",
          "2023-03-01",
          "2023-04-01"
         ],
         "xaxis": "x",
         "y": [
          14472289332,
          14634090390,
          15192634701,
          14292472554,
          14823602661,
          15409451765,
          14124129298,
          14481642319,
          15275846089,
          15292759010,
          13544729209,
          14436339660,
          13244876797.53,
          12172802862.67,
          13634041965.14,
          13104596804.38,
          12754659043.69,
          13514101879.06,
          11465779764.41,
          12726037506.73,
          12588359370.7,
          12121740572.3,
          11122182554.3,
          11917112381.72,
          10581883837.98,
          11316734188.51,
          11812127477.93,
          11689745851.03,
          11517409125.88,
          13206122765.22,
          9649503975.97,
          12753921321.13,
          12579750249.95,
          12743736883.73,
          13502920382.69,
          13832355186.41,
          13397676587.81,
          12615980315.09,
          14718477686.88,
          13269689617.58,
          14333859523.55,
          11661376380.86,
          13611062499.27,
          15187990996.89,
          14580216111.8,
          15252563526.06,
          15334735600.61,
          14864547089.62,
          14576277325.78,
          14132382055.93,
          15510616703.18,
          14496238057.47,
          16198340826.26,
          12941739831.72,
          16284719992.31,
          15865124056.42,
          14956348234.23,
          15909072846.28,
          14851720862.22,
          14290093210.17,
          14028086397.26,
          12788557131.66,
          14447789013.35,
          13068068332.92,
          14751890717.71,
          11763353136.51,
          15238418109.04,
          14261962733.89,
          14080108446.19,
          14881456853.91,
          13944486956.68,
          14428818305.1,
          13636412653.62,
          14042089243.23,
          14031292077.89,
          12159824545.01,
          10452625424.79,
          12006813612.7,
          13689902558.81,
          13055281120.71,
          13956176571.88,
          14363443251.43,
          15258422043.1,
          16539555059.63,
          15300168401.83,
          15255398398.45,
          18398414762.13,
          18474131706.88,
          16908015508.43,
          18547744863.51,
          19369596670.95,
          21443151840.86,
          20618788618.1,
          22090984014.33,
          22845364125.29,
          22357720667.68,
          19173699043.36,
          20472894279.18,
          26497477726.13,
          27322284675.6,
          21509825822.05,
          26150115171.99,
          25563196494.36,
          27862094370.64,
          24777175554.39,
          24728444384.48,
          24094037088.31,
          23827858043.97,
          22323843853.75,
          21321275494.98,
          23415993725.52,
          19284075116.77
         ],
         "yaxis": "y"
        }
       ],
       "layout": {
        "legend": {
         "tracegroupgap": 0
        },
        "template": {
         "data": {
          "bar": [
           {
            "error_x": {
             "color": "#2a3f5f"
            },
            "error_y": {
             "color": "#2a3f5f"
            },
            "marker": {
             "line": {
              "color": "#E5ECF6",
              "width": 0.5
             },
             "pattern": {
              "fillmode": "overlay",
              "size": 10,
              "solidity": 0.2
             }
            },
            "type": "bar"
           }
          ],
          "barpolar": [
           {
            "marker": {
             "line": {
              "color": "#E5ECF6",
              "width": 0.5
             },
             "pattern": {
              "fillmode": "overlay",
              "size": 10,
              "solidity": 0.2
             }
            },
            "type": "barpolar"
           }
          ],
          "carpet": [
           {
            "aaxis": {
             "endlinecolor": "#2a3f5f",
             "gridcolor": "white",
             "linecolor": "white",
             "minorgridcolor": "white",
             "startlinecolor": "#2a3f5f"
            },
            "baxis": {
             "endlinecolor": "#2a3f5f",
             "gridcolor": "white",
             "linecolor": "white",
             "minorgridcolor": "white",
             "startlinecolor": "#2a3f5f"
            },
            "type": "carpet"
           }
          ],
          "choropleth": [
           {
            "colorbar": {
             "outlinewidth": 0,
             "ticks": ""
            },
            "type": "choropleth"
           }
          ],
          "contour": [
           {
            "colorbar": {
             "outlinewidth": 0,
             "ticks": ""
            },
            "colorscale": [
             [
              0,
              "#0d0887"
             ],
             [
              0.1111111111111111,
              "#46039f"
             ],
             [
              0.2222222222222222,
              "#7201a8"
             ],
             [
              0.3333333333333333,
              "#9c179e"
             ],
             [
              0.4444444444444444,
              "#bd3786"
             ],
             [
              0.5555555555555556,
              "#d8576b"
             ],
             [
              0.6666666666666666,
              "#ed7953"
             ],
             [
              0.7777777777777778,
              "#fb9f3a"
             ],
             [
              0.8888888888888888,
              "#fdca26"
             ],
             [
              1,
              "#f0f921"
             ]
            ],
            "type": "contour"
           }
          ],
          "contourcarpet": [
           {
            "colorbar": {
             "outlinewidth": 0,
             "ticks": ""
            },
            "type": "contourcarpet"
           }
          ],
          "heatmap": [
           {
            "colorbar": {
             "outlinewidth": 0,
             "ticks": ""
            },
            "colorscale": [
             [
              0,
              "#0d0887"
             ],
             [
              0.1111111111111111,
              "#46039f"
             ],
             [
              0.2222222222222222,
              "#7201a8"
             ],
             [
              0.3333333333333333,
              "#9c179e"
             ],
             [
              0.4444444444444444,
              "#bd3786"
             ],
             [
              0.5555555555555556,
              "#d8576b"
             ],
             [
              0.6666666666666666,
              "#ed7953"
             ],
             [
              0.7777777777777778,
              "#fb9f3a"
             ],
             [
              0.8888888888888888,
              "#fdca26"
             ],
             [
              1,
              "#f0f921"
             ]
            ],
            "type": "heatmap"
           }
          ],
          "heatmapgl": [
           {
            "colorbar": {
             "outlinewidth": 0,
             "ticks": ""
            },
            "colorscale": [
             [
              0,
              "#0d0887"
             ],
             [
              0.1111111111111111,
              "#46039f"
             ],
             [
              0.2222222222222222,
              "#7201a8"
             ],
             [
              0.3333333333333333,
              "#9c179e"
             ],
             [
              0.4444444444444444,
              "#bd3786"
             ],
             [
              0.5555555555555556,
              "#d8576b"
             ],
             [
              0.6666666666666666,
              "#ed7953"
             ],
             [
              0.7777777777777778,
              "#fb9f3a"
             ],
             [
              0.8888888888888888,
              "#fdca26"
             ],
             [
              1,
              "#f0f921"
             ]
            ],
            "type": "heatmapgl"
           }
          ],
          "histogram": [
           {
            "marker": {
             "pattern": {
              "fillmode": "overlay",
              "size": 10,
              "solidity": 0.2
             }
            },
            "type": "histogram"
           }
          ],
          "histogram2d": [
           {
            "colorbar": {
             "outlinewidth": 0,
             "ticks": ""
            },
            "colorscale": [
             [
              0,
              "#0d0887"
             ],
             [
              0.1111111111111111,
              "#46039f"
             ],
             [
              0.2222222222222222,
              "#7201a8"
             ],
             [
              0.3333333333333333,
              "#9c179e"
             ],
             [
              0.4444444444444444,
              "#bd3786"
             ],
             [
              0.5555555555555556,
              "#d8576b"
             ],
             [
              0.6666666666666666,
              "#ed7953"
             ],
             [
              0.7777777777777778,
              "#fb9f3a"
             ],
             [
              0.8888888888888888,
              "#fdca26"
             ],
             [
              1,
              "#f0f921"
             ]
            ],
            "type": "histogram2d"
           }
          ],
          "histogram2dcontour": [
           {
            "colorbar": {
             "outlinewidth": 0,
             "ticks": ""
            },
            "colorscale": [
             [
              0,
              "#0d0887"
             ],
             [
              0.1111111111111111,
              "#46039f"
             ],
             [
              0.2222222222222222,
              "#7201a8"
             ],
             [
              0.3333333333333333,
              "#9c179e"
             ],
             [
              0.4444444444444444,
              "#bd3786"
             ],
             [
              0.5555555555555556,
              "#d8576b"
             ],
             [
              0.6666666666666666,
              "#ed7953"
             ],
             [
              0.7777777777777778,
              "#fb9f3a"
             ],
             [
              0.8888888888888888,
              "#fdca26"
             ],
             [
              1,
              "#f0f921"
             ]
            ],
            "type": "histogram2dcontour"
           }
          ],
          "mesh3d": [
           {
            "colorbar": {
             "outlinewidth": 0,
             "ticks": ""
            },
            "type": "mesh3d"
           }
          ],
          "parcoords": [
           {
            "line": {
             "colorbar": {
              "outlinewidth": 0,
              "ticks": ""
             }
            },
            "type": "parcoords"
           }
          ],
          "pie": [
           {
            "automargin": true,
            "type": "pie"
           }
          ],
          "scatter": [
           {
            "fillpattern": {
             "fillmode": "overlay",
             "size": 10,
             "solidity": 0.2
            },
            "type": "scatter"
           }
          ],
          "scatter3d": [
           {
            "line": {
             "colorbar": {
              "outlinewidth": 0,
              "ticks": ""
             }
            },
            "marker": {
             "colorbar": {
              "outlinewidth": 0,
              "ticks": ""
             }
            },
            "type": "scatter3d"
           }
          ],
          "scattercarpet": [
           {
            "marker": {
             "colorbar": {
              "outlinewidth": 0,
              "ticks": ""
             }
            },
            "type": "scattercarpet"
           }
          ],
          "scattergeo": [
           {
            "marker": {
             "colorbar": {
              "outlinewidth": 0,
              "ticks": ""
             }
            },
            "type": "scattergeo"
           }
          ],
          "scattergl": [
           {
            "marker": {
             "colorbar": {
              "outlinewidth": 0,
              "ticks": ""
             }
            },
            "type": "scattergl"
           }
          ],
          "scattermapbox": [
           {
            "marker": {
             "colorbar": {
              "outlinewidth": 0,
              "ticks": ""
             }
            },
            "type": "scattermapbox"
           }
          ],
          "scatterpolar": [
           {
            "marker": {
             "colorbar": {
              "outlinewidth": 0,
              "ticks": ""
             }
            },
            "type": "scatterpolar"
           }
          ],
          "scatterpolargl": [
           {
            "marker": {
             "colorbar": {
              "outlinewidth": 0,
              "ticks": ""
             }
            },
            "type": "scatterpolargl"
           }
          ],
          "scatterternary": [
           {
            "marker": {
             "colorbar": {
              "outlinewidth": 0,
              "ticks": ""
             }
            },
            "type": "scatterternary"
           }
          ],
          "surface": [
           {
            "colorbar": {
             "outlinewidth": 0,
             "ticks": ""
            },
            "colorscale": [
             [
              0,
              "#0d0887"
             ],
             [
              0.1111111111111111,
              "#46039f"
             ],
             [
              0.2222222222222222,
              "#7201a8"
             ],
             [
              0.3333333333333333,
              "#9c179e"
             ],
             [
              0.4444444444444444,
              "#bd3786"
             ],
             [
              0.5555555555555556,
              "#d8576b"
             ],
             [
              0.6666666666666666,
              "#ed7953"
             ],
             [
              0.7777777777777778,
              "#fb9f3a"
             ],
             [
              0.8888888888888888,
              "#fdca26"
             ],
             [
              1,
              "#f0f921"
             ]
            ],
            "type": "surface"
           }
          ],
          "table": [
           {
            "cells": {
             "fill": {
              "color": "#EBF0F8"
             },
             "line": {
              "color": "white"
             }
            },
            "header": {
             "fill": {
              "color": "#C8D4E3"
             },
             "line": {
              "color": "white"
             }
            },
            "type": "table"
           }
          ]
         },
         "layout": {
          "annotationdefaults": {
           "arrowcolor": "#2a3f5f",
           "arrowhead": 0,
           "arrowwidth": 1
          },
          "autotypenumbers": "strict",
          "coloraxis": {
           "colorbar": {
            "outlinewidth": 0,
            "ticks": ""
           }
          },
          "colorscale": {
           "diverging": [
            [
             0,
             "#8e0152"
            ],
            [
             0.1,
             "#c51b7d"
            ],
            [
             0.2,
             "#de77ae"
            ],
            [
             0.3,
             "#f1b6da"
            ],
            [
             0.4,
             "#fde0ef"
            ],
            [
             0.5,
             "#f7f7f7"
            ],
            [
             0.6,
             "#e6f5d0"
            ],
            [
             0.7,
             "#b8e186"
            ],
            [
             0.8,
             "#7fbc41"
            ],
            [
             0.9,
             "#4d9221"
            ],
            [
             1,
             "#276419"
            ]
           ],
           "sequential": [
            [
             0,
             "#0d0887"
            ],
            [
             0.1111111111111111,
             "#46039f"
            ],
            [
             0.2222222222222222,
             "#7201a8"
            ],
            [
             0.3333333333333333,
             "#9c179e"
            ],
            [
             0.4444444444444444,
             "#bd3786"
            ],
            [
             0.5555555555555556,
             "#d8576b"
            ],
            [
             0.6666666666666666,
             "#ed7953"
            ],
            [
             0.7777777777777778,
             "#fb9f3a"
            ],
            [
             0.8888888888888888,
             "#fdca26"
            ],
            [
             1,
             "#f0f921"
            ]
           ],
           "sequentialminus": [
            [
             0,
             "#0d0887"
            ],
            [
             0.1111111111111111,
             "#46039f"
            ],
            [
             0.2222222222222222,
             "#7201a8"
            ],
            [
             0.3333333333333333,
             "#9c179e"
            ],
            [
             0.4444444444444444,
             "#bd3786"
            ],
            [
             0.5555555555555556,
             "#d8576b"
            ],
            [
             0.6666666666666666,
             "#ed7953"
            ],
            [
             0.7777777777777778,
             "#fb9f3a"
            ],
            [
             0.8888888888888888,
             "#fdca26"
            ],
            [
             1,
             "#f0f921"
            ]
           ]
          },
          "colorway": [
           "#636efa",
           "#EF553B",
           "#00cc96",
           "#ab63fa",
           "#FFA15A",
           "#19d3f3",
           "#FF6692",
           "#B6E880",
           "#FF97FF",
           "#FECB52"
          ],
          "font": {
           "color": "#2a3f5f"
          },
          "geo": {
           "bgcolor": "white",
           "lakecolor": "white",
           "landcolor": "#E5ECF6",
           "showlakes": true,
           "showland": true,
           "subunitcolor": "white"
          },
          "hoverlabel": {
           "align": "left"
          },
          "hovermode": "closest",
          "mapbox": {
           "style": "light"
          },
          "paper_bgcolor": "white",
          "plot_bgcolor": "#E5ECF6",
          "polar": {
           "angularaxis": {
            "gridcolor": "white",
            "linecolor": "white",
            "ticks": ""
           },
           "bgcolor": "#E5ECF6",
           "radialaxis": {
            "gridcolor": "white",
            "linecolor": "white",
            "ticks": ""
           }
          },
          "scene": {
           "xaxis": {
            "backgroundcolor": "#E5ECF6",
            "gridcolor": "white",
            "gridwidth": 2,
            "linecolor": "white",
            "showbackground": true,
            "ticks": "",
            "zerolinecolor": "white"
           },
           "yaxis": {
            "backgroundcolor": "#E5ECF6",
            "gridcolor": "white",
            "gridwidth": 2,
            "linecolor": "white",
            "showbackground": true,
            "ticks": "",
            "zerolinecolor": "white"
           },
           "zaxis": {
            "backgroundcolor": "#E5ECF6",
            "gridcolor": "white",
            "gridwidth": 2,
            "linecolor": "white",
            "showbackground": true,
            "ticks": "",
            "zerolinecolor": "white"
           }
          },
          "shapedefaults": {
           "line": {
            "color": "#2a3f5f"
           }
          },
          "ternary": {
           "aaxis": {
            "gridcolor": "white",
            "linecolor": "white",
            "ticks": ""
           },
           "baxis": {
            "gridcolor": "white",
            "linecolor": "white",
            "ticks": ""
           },
           "bgcolor": "#E5ECF6",
           "caxis": {
            "gridcolor": "white",
            "linecolor": "white",
            "ticks": ""
           }
          },
          "title": {
           "x": 0.05
          },
          "xaxis": {
           "automargin": true,
           "gridcolor": "white",
           "linecolor": "white",
           "ticks": "",
           "title": {
            "standoff": 15
           },
           "zerolinecolor": "white",
           "zerolinewidth": 2
          },
          "yaxis": {
           "automargin": true,
           "gridcolor": "white",
           "linecolor": "white",
           "ticks": "",
           "title": {
            "standoff": 15
           },
           "zerolinecolor": "white",
           "zerolinewidth": 2
          }
         }
        },
        "title": {
         "text": "Nilai Ekspor Bulanan Indonesia"
        },
        "xaxis": {
         "anchor": "y",
         "domain": [
          0,
          1
         ],
         "title": {
          "text": "x"
         }
        },
        "yaxis": {
         "anchor": "x",
         "domain": [
          0,
          1
         ],
         "title": {
          "text": "y"
         }
        }
       }
      }
     },
     "metadata": {},
     "output_type": "display_data"
    }
   ],
   "source": [
    "# create plot for country_data for every category\n",
    "import plotly.express as px\n",
    "\n",
    "bulan_tahun = df['Bulan-Tahun'].values\n",
    "nilai_ekspor = df['Nilai-Ekspor'].values\n",
    "\n",
    "fig = px.line(df, x=bulan_tahun, y=nilai_ekspor, title='Nilai Ekspor Bulanan Indonesia')\n",
    "fig.show()"
   ]
  },
  {
   "cell_type": "code",
   "execution_count": 11,
   "id": "7767549a",
   "metadata": {},
   "outputs": [
    {
     "data": {
      "image/png": "[encoded data removed]",
      "text/plain": [
       "<Figure size 2500x1000 with 1 Axes>"
      ]
     },
     "metadata": {},
     "output_type": "display_data"
    }
   ],
   "source": [
    "# make fuzzy set\n",
    "fs = Grid.GridPartitioner(\n",
    "    data=nilai_ekspor, npart=10)\n",
    "\n",
    "# make fuzzy set plotly from fs\n",
    "# fig = go.Figure()\n",
    "\n",
    "fig, ax = plt.subplots(nrows=1, ncols=1, figsize=[25, 10])\n",
    "\n",
    "ax.set_xlim(0, len(nilai_ekspor))\n",
    "ax.set_ylim(-0.1, 0.1)\n",
    "# ax.set_xlim(0, len(df[df['Country'] == 'Slovenia']['Value'].values))\n",
    "ax.tick_params(axis='x', labelsize=20)\n",
    "ax.tick_params(axis='y', labelsize=20)\n",
    "\n",
    "fs.plot(ax)\n",
    "ax.set_title(\"Nilai Ekspor Indonesia\", fontsize=30)\n",
    "\n",
    "plt.show()"
   ]
  },
  {
   "cell_type": "code",
   "execution_count": 12,
   "id": "b3cd942d",
   "metadata": {},
   "outputs": [
    {
     "name": "stdout",
     "output_type": "stream",
     "text": [
      "Grid:\n",
      "A0: trimf([6488178555.439899, 8684553578.373, 10880928601.306099])\n",
      "A1: trimf([8684553578.373, 10880928601.306099, 13077303624.239199])\n",
      "A2: trimf([10880928601.306099, 13077303624.239199, 15273678647.172298])\n",
      "A3: trimf([13077303624.239199, 15273678647.172298, 17470053670.1054])\n",
      "A4: trimf([15273678647.1723, 17470053670.1054, 19666428693.0385])\n",
      "A5: trimf([17470053670.105396, 19666428693.038498, 21862803715.9716])\n",
      "A6: trimf([19666428693.038494, 21862803715.971596, 24059178738.904697])\n",
      "A7: trimf([21862803715.971596, 24059178738.904697, 26255553761.8378])\n",
      "A8: trimf([24059178738.904697, 26255553761.8378, 28451928784.7709])\n",
      "A9: trimf([26255553761.837795, 28451928784.770897, 30648303807.704])\n",
      "\n"
     ]
    }
   ],
   "source": [
    "print(fs)"
   ]
  },
  {
   "cell_type": "code",
   "execution_count": 13,
   "id": "5dd555fd",
   "metadata": {},
   "outputs": [
    {
     "name": "stdout",
     "output_type": "stream",
     "text": [
      "Conventional FTS:\n",
      "A2 -> A0,A1,A2,A3\n",
      "A1 -> A1,A2,A3\n",
      "A0 -> A2\n",
      "A3 -> A1,A2,A3,A4\n",
      "A4 -> A3,A4,A5\n",
      "A7 -> A5,A6,A7\n",
      "A5 -> A5,A6,A8\n",
      "A6 -> A5,A6,A7,A8\n",
      "A9 -> A7\n",
      "A8 -> A6,A8,A9\n",
      "\n"
     ]
    }
   ],
   "source": [
    "from pyFTS.models import chen\n",
    "\n",
    "model = chen.ConventionalFTS(partitioner=fs)\n",
    "model.fit(nilai_ekspor)\n",
    "print(model)"
   ]
  },
  {
   "cell_type": "code",
   "execution_count": 14,
   "id": "b9b6115c",
   "metadata": {},
   "outputs": [],
   "source": [
    "prediction = model.predict(nilai_ekspor)"
   ]
  },
  {
   "cell_type": "code",
   "execution_count": 18,
   "id": "f3c783c2",
   "metadata": {},
   "outputs": [],
   "source": [
    "fts_dates = df['Bulan-Tahun'].values\n",
    "data_fts_result = pd.DataFrame({\n",
    "    'date': fts_dates,\n",
    "    'actual': nilai_ekspor,\n",
    "    'prediction': prediction\n",
    "})"
   ]
  },
  {
   "cell_type": "code",
   "execution_count": 19,
   "id": "558e40f8",
   "metadata": {},
   "outputs": [
    {
     "data": {
      "application/vnd.plotly.v1+json": {
       "config": {
        "plotlyServerURL": "https://plot.ly"
       },
       "data": [
        {
         "mode": "lines",
         "name": "Actual",
         "type": "scatter",
         "x": [
          "2014-01-01",
          "2014-02-01",
          "2014-03-01",
          "2014-04-01",
          "2014-05-01",
          "2014-06-01",
          "2014-07-01",
          "2014-08-01",
          "2014-09-01",
          "2014-10-01",
          "2014-11-01",
          "2014-12-01",
          "2015-01-01",
          "2015-02-01",
          "2015-03-01",
          "2015-04-01",
          "2015-05-01",
          "2015-06-01",
          "2015-07-01",
          "2015-08-01",
          "2015-09-01",
          "2015-10-01",
          "2015-11-01",
          "2015-12-01",
          "2016-01-01",
          "2016-02-01",
          "2016-03-01",
          "2016-04-01",
          "2016-05-01",
          "2016-06-01",
          "2016-07-01",
          "2016-08-01",
          "2016-09-01",
          "2016-10-01",
          "2016-11-01",
          "2016-12-01",
          "2017-01-01",
          "2017-02-01",
          "2017-03-01",
          "2017-04-01",
          "2017-05-01",
          "2017-06-01",
          "2017-07-01",
          "2017-08-01",
          "2017-09-01",
          "2017-10-01",
          "2017-11-01",
          "2017-12-01",
          "2018-01-01",
          "2018-02-01",
          "2018-03-01",
          "2018-04-01",
          "2018-05-01",
          "2018-06-01",
          "2018-07-01",
          "2018-08-01",
          "2018-09-01",
          "2018-10-01",
          "2018-11-01",
          "2018-12-01",
          "2019-01-01",
          "2019-02-01",
          "2019-03-01",
          "2019-04-01",
          "2019-05-01",
          "2019-06-01",
          "2019-07-01",
          "2019-08-01",
          "2019-09-01",
          "2019-10-01",
          "2019-11-01",
          "2019-12-01",
          "2020-01-01",
          "2020-02-01",
          "2020-03-01",
          "2020-04-01",
          "2020-05-01",
          "2020-06-01",
          "2020-07-01",
          "2020-08-01",
          "2020-09-01",
          "2020-10-01",
          "2020-11-01",
          "2020-12-01",
          "2021-01-01",
          "2021-02-01",
          "2021-03-01",
          "2021-04-01",
          "2021-05-01",
          "2021-06-01",
          "2021-07-01",
          "2021-08-01",
          "2021-09-01",
          "2021-10-01",
          "2021-11-01",
          "2021-12-01",
          "2022-01-01",
          "2022-02-01",
          "2022-03-01",
          "2022-04-01",
          "2022-05-01",
          "2022-06-01",
          "2022-07-01",
          "2022-08-01",
          "2022-09-01",
          "2022-10-01",
          "2022-11-01",
          "2022-12-01",
          "2023-01-01",
          "2023-02-01",
          "2023-03-01",
          "2023-04-01"
         ],
         "y": [
          14472289332,
          14634090390,
          15192634701,
          14292472554,
          14823602661,
          15409451765,
          14124129298,
          14481642319,
          15275846089,
          15292759010,
          13544729209,
          14436339660,
          13244876797.53,
          12172802862.67,
          13634041965.14,
          13104596804.38,
          12754659043.69,
          13514101879.06,
          11465779764.41,
          12726037506.73,
          12588359370.7,
          12121740572.3,
          11122182554.3,
          11917112381.72,
          10581883837.98,
          11316734188.51,
          11812127477.93,
          11689745851.03,
          11517409125.88,
          13206122765.22,
          9649503975.97,
          12753921321.13,
          12579750249.95,
          12743736883.73,
          13502920382.69,
          13832355186.41,
          13397676587.81,
          12615980315.09,
          14718477686.88,
          13269689617.58,
          14333859523.55,
          11661376380.86,
          13611062499.27,
          15187990996.89,
          14580216111.8,
          15252563526.06,
          15334735600.61,
          14864547089.62,
          14576277325.78,
          14132382055.93,
          15510616703.18,
          14496238057.47,
          16198340826.26,
          12941739831.72,
          16284719992.31,
          15865124056.42,
          14956348234.23,
          15909072846.28,
          14851720862.22,
          14290093210.17,
          14028086397.26,
          12788557131.66,
          14447789013.35,
          13068068332.92,
          14751890717.71,
          11763353136.51,
          15238418109.04,
          14261962733.89,
          14080108446.19,
          14881456853.91,
          13944486956.68,
          14428818305.1,
          13636412653.62,
          14042089243.23,
          14031292077.89,
          12159824545.01,
          10452625424.79,
          12006813612.7,
          13689902558.81,
          13055281120.71,
          13956176571.88,
          14363443251.43,
          15258422043.1,
          16539555059.63,
          15300168401.83,
          15255398398.45,
          18398414762.13,
          18474131706.88,
          16908015508.43,
          18547744863.51,
          19369596670.95,
          21443151840.86,
          20618788618.1,
          22090984014.33,
          22845364125.29,
          22357720667.68,
          19173699043.36,
          20472894279.18,
          26497477726.13,
          27322284675.6,
          21509825822.05,
          26150115171.99,
          25563196494.36,
          27862094370.64,
          24777175554.39,
          24728444384.48,
          24094037088.31,
          23827858043.97,
          22323843853.75,
          21321275494.98,
          23415993725.52,
          19284075116.77
         ]
        },
        {
         "mode": "lines",
         "name": "Forecast",
         "type": "scatter",
         "x": [
          "2014-01-01",
          "2014-02-01",
          "2014-03-01",
          "2014-04-01",
          "2014-05-01",
          "2014-06-01",
          "2014-07-01",
          "2014-08-01",
          "2014-09-01",
          "2014-10-01",
          "2014-11-01",
          "2014-12-01",
          "2015-01-01",
          "2015-02-01",
          "2015-03-01",
          "2015-04-01",
          "2015-05-01",
          "2015-06-01",
          "2015-07-01",
          "2015-08-01",
          "2015-09-01",
          "2015-10-01",
          "2015-11-01",
          "2015-12-01",
          "2016-01-01",
          "2016-02-01",
          "2016-03-01",
          "2016-04-01",
          "2016-05-01",
          "2016-06-01",
          "2016-07-01",
          "2016-08-01",
          "2016-09-01",
          "2016-10-01",
          "2016-11-01",
          "2016-12-01",
          "2017-01-01",
          "2017-02-01",
          "2017-03-01",
          "2017-04-01",
          "2017-05-01",
          "2017-06-01",
          "2017-07-01",
          "2017-08-01",
          "2017-09-01",
          "2017-10-01",
          "2017-11-01",
          "2017-12-01",
          "2018-01-01",
          "2018-02-01",
          "2018-03-01",
          "2018-04-01",
          "2018-05-01",
          "2018-06-01",
          "2018-07-01",
          "2018-08-01",
          "2018-09-01",
          "2018-10-01",
          "2018-11-01",
          "2018-12-01",
          "2019-01-01",
          "2019-02-01",
          "2019-03-01",
          "2019-04-01",
          "2019-05-01",
          "2019-06-01",
          "2019-07-01",
          "2019-08-01",
          "2019-09-01",
          "2019-10-01",
          "2019-11-01",
          "2019-12-01",
          "2020-01-01",
          "2020-02-01",
          "2020-03-01",
          "2020-04-01",
          "2020-05-01",
          "2020-06-01",
          "2020-07-01",
          "2020-08-01",
          "2020-09-01",
          "2020-10-01",
          "2020-11-01",
          "2020-12-01",
          "2021-01-01",
          "2021-02-01",
          "2021-03-01",
          "2021-04-01",
          "2021-05-01",
          "2021-06-01",
          "2021-07-01",
          "2021-08-01",
          "2021-09-01",
          "2021-10-01",
          "2021-11-01",
          "2021-12-01",
          "2022-01-01",
          "2022-02-01",
          "2022-03-01",
          "2022-04-01",
          "2022-05-01",
          "2022-06-01",
          "2022-07-01",
          "2022-08-01",
          "2022-09-01",
          "2022-10-01",
          "2022-11-01",
          "2022-12-01",
          "2023-01-01",
          "2023-02-01",
          "2023-03-01",
          "2023-04-01"
         ],
         "y": [
          14175491135.70575,
          14175491135.70575,
          14175491135.70575,
          14175491135.70575,
          14175491135.70575,
          14175491135.70575,
          11979116112.77265,
          14175491135.70575,
          14175491135.70575,
          14175491135.70575,
          11979116112.77265,
          14175491135.70575,
          11979116112.77265,
          11979116112.77265,
          11979116112.77265,
          11979116112.77265,
          11979116112.77265,
          11979116112.77265,
          13077303624.239197,
          11979116112.77265,
          11979116112.77265,
          11979116112.77265,
          13077303624.239197,
          13077303624.239197,
          13077303624.239197,
          13077303624.239197,
          13077303624.239197,
          13077303624.239197,
          13077303624.239197,
          11979116112.77265,
          13077303624.239199,
          11979116112.77265,
          11979116112.77265,
          11979116112.77265,
          11979116112.77265,
          11979116112.77265,
          11979116112.77265,
          11979116112.77265,
          14175491135.70575,
          11979116112.77265,
          14175491135.70575,
          13077303624.239197,
          11979116112.77265,
          14175491135.70575,
          14175491135.70575,
          14175491135.70575,
          14175491135.70575,
          14175491135.70575,
          14175491135.70575,
          11979116112.77265,
          14175491135.70575,
          14175491135.70575,
          14175491135.70575,
          11979116112.77265,
          14175491135.70575,
          14175491135.70575,
          14175491135.70575,
          14175491135.70575,
          14175491135.70575,
          14175491135.70575,
          11979116112.77265,
          11979116112.77265,
          14175491135.70575,
          11979116112.77265,
          14175491135.70575,
          13077303624.239197,
          14175491135.70575,
          14175491135.70575,
          11979116112.77265,
          14175491135.70575,
          11979116112.77265,
          14175491135.70575,
          11979116112.77265,
          11979116112.77265,
          11979116112.77265,
          11979116112.77265,
          13077303624.239197,
          11979116112.77265,
          11979116112.77265,
          11979116112.77265,
          11979116112.77265,
          14175491135.70575,
          14175491135.70575,
          17470053670.105396,
          14175491135.70575,
          14175491135.70575,
          17470053670.105396,
          17470053670.105396,
          17470053670.105396,
          17470053670.105396,
          22594928723.615963,
          22960991227.438145,
          22594928723.615963,
          22960991227.438145,
          22960991227.438145,
          22960991227.438145,
          22594928723.615963,
          22594928723.615963,
          25523428754.19343,
          25523428754.19343,
          22960991227.438145,
          25523428754.19343,
          25523428754.19343,
          24059178738.904697,
          21862803715.9716,
          21862803715.9716,
          21862803715.9716,
          21862803715.9716,
          22960991227.438145,
          22960991227.438145,
          21862803715.9716,
          22594928723.615963
         ]
        }
       ],
       "layout": {
        "legend": {
         "font": {
          "size": 12
         },
         "x": 1,
         "xanchor": "right",
         "y": 0,
         "yanchor": "bottom"
        },
        "shapes": [
         {
          "line": {
           "color": "black",
           "dash": "solid",
           "width": 1
          },
          "type": "line",
          "x0": "2014-01-01",
          "x1": "2014-01-01",
          "y0": 0,
          "y1": 1
         },
         {
          "line": {
           "color": "black",
           "dash": "dash",
           "width": 1
          },
          "type": "line",
          "x0": "2014-02-01",
          "x1": "2014-02-01",
          "y0": 0,
          "y1": 1
         },
         {
          "line": {
           "color": "black",
           "dash": "solid",
           "width": 1
          },
          "type": "line",
          "x0": "2014-03-01",
          "x1": "2014-03-01",
          "y0": 0,
          "y1": 1
         },
         {
          "line": {
           "color": "black",
           "dash": "dash",
           "width": 1
          },
          "type": "line",
          "x0": "2014-04-01",
          "x1": "2014-04-01",
          "y0": 0,
          "y1": 1
         },
         {
          "line": {
           "color": "black",
           "dash": "solid",
           "width": 1
          },
          "type": "line",
          "x0": "2014-05-01",
          "x1": "2014-05-01",
          "y0": 0,
          "y1": 1
         },
         {
          "line": {
           "color": "black",
           "dash": "dash",
           "width": 1
          },
          "type": "line",
          "x0": "2014-06-01",
          "x1": "2014-06-01",
          "y0": 0,
          "y1": 1
         },
         {
          "line": {
           "color": "black",
           "dash": "solid",
           "width": 1
          },
          "type": "line",
          "x0": "2014-07-01",
          "x1": "2014-07-01",
          "y0": 0,
          "y1": 1
         },
         {
          "line": {
           "color": "black",
           "dash": "dash",
           "width": 1
          },
          "type": "line",
          "x0": "2014-08-01",
          "x1": "2014-08-01",
          "y0": 0,
          "y1": 1
         },
         {
          "line": {
           "color": "black",
           "dash": "solid",
           "width": 1
          },
          "type": "line",
          "x0": "2014-09-01",
          "x1": "2014-09-01",
          "y0": 0,
          "y1": 1
         },
         {
          "line": {
           "color": "black",
           "dash": "dash",
           "width": 1
          },
          "type": "line",
          "x0": "2014-10-01",
          "x1": "2014-10-01",
          "y0": 0,
          "y1": 1
         },
         {
          "line": {
           "color": "black",
           "dash": "solid",
           "width": 1
          },
          "type": "line",
          "x0": "2014-11-01",
          "x1": "2014-11-01",
          "y0": 0,
          "y1": 1
         },
         {
          "line": {
           "color": "black",
           "dash": "dash",
           "width": 1
          },
          "type": "line",
          "x0": "2014-12-01",
          "x1": "2014-12-01",
          "y0": 0,
          "y1": 1
         },
         {
          "line": {
           "color": "black",
           "dash": "solid",
           "width": 1
          },
          "type": "line",
          "x0": "2015-01-01",
          "x1": "2015-01-01",
          "y0": 0,
          "y1": 1
         },
         {
          "line": {
           "color": "black",
           "dash": "dash",
           "width": 1
          },
          "type": "line",
          "x0": "2015-02-01",
          "x1": "2015-02-01",
          "y0": 0,
          "y1": 1
         },
         {
          "line": {
           "color": "black",
           "dash": "solid",
           "width": 1
          },
          "type": "line",
          "x0": "2015-03-01",
          "x1": "2015-03-01",
          "y0": 0,
          "y1": 1
         },
         {
          "line": {
           "color": "black",
           "dash": "dash",
           "width": 1
          },
          "type": "line",
          "x0": "2015-04-01",
          "x1": "2015-04-01",
          "y0": 0,
          "y1": 1
         },
         {
          "line": {
           "color": "black",
           "dash": "solid",
           "width": 1
          },
          "type": "line",
          "x0": "2015-05-01",
          "x1": "2015-05-01",
          "y0": 0,
          "y1": 1
         },
         {
          "line": {
           "color": "black",
           "dash": "dash",
           "width": 1
          },
          "type": "line",
          "x0": "2015-06-01",
          "x1": "2015-06-01",
          "y0": 0,
          "y1": 1
         },
         {
          "line": {
           "color": "black",
           "dash": "solid",
           "width": 1
          },
          "type": "line",
          "x0": "2015-07-01",
          "x1": "2015-07-01",
          "y0": 0,
          "y1": 1
         },
         {
          "line": {
           "color": "black",
           "dash": "dash",
           "width": 1
          },
          "type": "line",
          "x0": "2015-08-01",
          "x1": "2015-08-01",
          "y0": 0,
          "y1": 1
         },
         {
          "line": {
           "color": "black",
           "dash": "solid",
           "width": 1
          },
          "type": "line",
          "x0": "2015-09-01",
          "x1": "2015-09-01",
          "y0": 0,
          "y1": 1
         },
         {
          "line": {
           "color": "black",
           "dash": "dash",
           "width": 1
          },
          "type": "line",
          "x0": "2015-10-01",
          "x1": "2015-10-01",
          "y0": 0,
          "y1": 1
         },
         {
          "line": {
           "color": "black",
           "dash": "solid",
           "width": 1
          },
          "type": "line",
          "x0": "2015-11-01",
          "x1": "2015-11-01",
          "y0": 0,
          "y1": 1
         },
         {
          "line": {
           "color": "black",
           "dash": "dash",
           "width": 1
          },
          "type": "line",
          "x0": "2015-12-01",
          "x1": "2015-12-01",
          "y0": 0,
          "y1": 1
         },
         {
          "line": {
           "color": "black",
           "dash": "solid",
           "width": 1
          },
          "type": "line",
          "x0": "2016-01-01",
          "x1": "2016-01-01",
          "y0": 0,
          "y1": 1
         },
         {
          "line": {
           "color": "black",
           "dash": "dash",
           "width": 1
          },
          "type": "line",
          "x0": "2016-02-01",
          "x1": "2016-02-01",
          "y0": 0,
          "y1": 1
         },
         {
          "line": {
           "color": "black",
           "dash": "solid",
           "width": 1
          },
          "type": "line",
          "x0": "2016-03-01",
          "x1": "2016-03-01",
          "y0": 0,
          "y1": 1
         },
         {
          "line": {
           "color": "black",
           "dash": "dash",
           "width": 1
          },
          "type": "line",
          "x0": "2016-04-01",
          "x1": "2016-04-01",
          "y0": 0,
          "y1": 1
         },
         {
          "line": {
           "color": "black",
           "dash": "solid",
           "width": 1
          },
          "type": "line",
          "x0": "2016-05-01",
          "x1": "2016-05-01",
          "y0": 0,
          "y1": 1
         },
         {
          "line": {
           "color": "black",
           "dash": "dash",
           "width": 1
          },
          "type": "line",
          "x0": "2016-06-01",
          "x1": "2016-06-01",
          "y0": 0,
          "y1": 1
         },
         {
          "line": {
           "color": "black",
           "dash": "solid",
           "width": 1
          },
          "type": "line",
          "x0": "2016-07-01",
          "x1": "2016-07-01",
          "y0": 0,
          "y1": 1
         },
         {
          "line": {
           "color": "black",
           "dash": "dash",
           "width": 1
          },
          "type": "line",
          "x0": "2016-08-01",
          "x1": "2016-08-01",
          "y0": 0,
          "y1": 1
         },
         {
          "line": {
           "color": "black",
           "dash": "solid",
           "width": 1
          },
          "type": "line",
          "x0": "2016-09-01",
          "x1": "2016-09-01",
          "y0": 0,
          "y1": 1
         },
         {
          "line": {
           "color": "black",
           "dash": "dash",
           "width": 1
          },
          "type": "line",
          "x0": "2016-10-01",
          "x1": "2016-10-01",
          "y0": 0,
          "y1": 1
         },
         {
          "line": {
           "color": "black",
           "dash": "solid",
           "width": 1
          },
          "type": "line",
          "x0": "2016-11-01",
          "x1": "2016-11-01",
          "y0": 0,
          "y1": 1
         },
         {
          "line": {
           "color": "black",
           "dash": "dash",
           "width": 1
          },
          "type": "line",
          "x0": "2016-12-01",
          "x1": "2016-12-01",
          "y0": 0,
          "y1": 1
         },
         {
          "line": {
           "color": "black",
           "dash": "solid",
           "width": 1
          },
          "type": "line",
          "x0": "2017-01-01",
          "x1": "2017-01-01",
          "y0": 0,
          "y1": 1
         },
         {
          "line": {
           "color": "black",
           "dash": "dash",
           "width": 1
          },
          "type": "line",
          "x0": "2017-02-01",
          "x1": "2017-02-01",
          "y0": 0,
          "y1": 1
         },
         {
          "line": {
           "color": "black",
           "dash": "solid",
           "width": 1
          },
          "type": "line",
          "x0": "2017-03-01",
          "x1": "2017-03-01",
          "y0": 0,
          "y1": 1
         },
         {
          "line": {
           "color": "black",
           "dash": "dash",
           "width": 1
          },
          "type": "line",
          "x0": "2017-04-01",
          "x1": "2017-04-01",
          "y0": 0,
          "y1": 1
         },
         {
          "line": {
           "color": "black",
           "dash": "solid",
           "width": 1
          },
          "type": "line",
          "x0": "2017-05-01",
          "x1": "2017-05-01",
          "y0": 0,
          "y1": 1
         },
         {
          "line": {
           "color": "black",
           "dash": "dash",
           "width": 1
          },
          "type": "line",
          "x0": "2017-06-01",
          "x1": "2017-06-01",
          "y0": 0,
          "y1": 1
         },
         {
          "line": {
           "color": "black",
           "dash": "solid",
           "width": 1
          },
          "type": "line",
          "x0": "2017-07-01",
          "x1": "2017-07-01",
          "y0": 0,
          "y1": 1
         },
         {
          "line": {
           "color": "black",
           "dash": "dash",
           "width": 1
          },
          "type": "line",
          "x0": "2017-08-01",
          "x1": "2017-08-01",
          "y0": 0,
          "y1": 1
         },
         {
          "line": {
           "color": "black",
           "dash": "solid",
           "width": 1
          },
          "type": "line",
          "x0": "2017-09-01",
          "x1": "2017-09-01",
          "y0": 0,
          "y1": 1
         },
         {
          "line": {
           "color": "black",
           "dash": "dash",
           "width": 1
          },
          "type": "line",
          "x0": "2017-10-01",
          "x1": "2017-10-01",
          "y0": 0,
          "y1": 1
         },
         {
          "line": {
           "color": "black",
           "dash": "solid",
           "width": 1
          },
          "type": "line",
          "x0": "2017-11-01",
          "x1": "2017-11-01",
          "y0": 0,
          "y1": 1
         },
         {
          "line": {
           "color": "black",
           "dash": "dash",
           "width": 1
          },
          "type": "line",
          "x0": "2017-12-01",
          "x1": "2017-12-01",
          "y0": 0,
          "y1": 1
         },
         {
          "line": {
           "color": "black",
           "dash": "solid",
           "width": 1
          },
          "type": "line",
          "x0": "2018-01-01",
          "x1": "2018-01-01",
          "y0": 0,
          "y1": 1
         },
         {
          "line": {
           "color": "black",
           "dash": "dash",
           "width": 1
          },
          "type": "line",
          "x0": "2018-02-01",
          "x1": "2018-02-01",
          "y0": 0,
          "y1": 1
         },
         {
          "line": {
           "color": "black",
           "dash": "solid",
           "width": 1
          },
          "type": "line",
          "x0": "2018-03-01",
          "x1": "2018-03-01",
          "y0": 0,
          "y1": 1
         },
         {
          "line": {
           "color": "black",
           "dash": "dash",
           "width": 1
          },
          "type": "line",
          "x0": "2018-04-01",
          "x1": "2018-04-01",
          "y0": 0,
          "y1": 1
         },
         {
          "line": {
           "color": "black",
           "dash": "solid",
           "width": 1
          },
          "type": "line",
          "x0": "2018-05-01",
          "x1": "2018-05-01",
          "y0": 0,
          "y1": 1
         },
         {
          "line": {
           "color": "black",
           "dash": "dash",
           "width": 1
          },
          "type": "line",
          "x0": "2018-06-01",
          "x1": "2018-06-01",
          "y0": 0,
          "y1": 1
         },
         {
          "line": {
           "color": "black",
           "dash": "solid",
           "width": 1
          },
          "type": "line",
          "x0": "2018-07-01",
          "x1": "2018-07-01",
          "y0": 0,
          "y1": 1
         },
         {
          "line": {
           "color": "black",
           "dash": "dash",
           "width": 1
          },
          "type": "line",
          "x0": "2018-08-01",
          "x1": "2018-08-01",
          "y0": 0,
          "y1": 1
         },
         {
          "line": {
           "color": "black",
           "dash": "solid",
           "width": 1
          },
          "type": "line",
          "x0": "2018-09-01",
          "x1": "2018-09-01",
          "y0": 0,
          "y1": 1
         },
         {
          "line": {
           "color": "black",
           "dash": "dash",
           "width": 1
          },
          "type": "line",
          "x0": "2018-10-01",
          "x1": "2018-10-01",
          "y0": 0,
          "y1": 1
         },
         {
          "line": {
           "color": "black",
           "dash": "solid",
           "width": 1
          },
          "type": "line",
          "x0": "2018-11-01",
          "x1": "2018-11-01",
          "y0": 0,
          "y1": 1
         },
         {
          "line": {
           "color": "black",
           "dash": "dash",
           "width": 1
          },
          "type": "line",
          "x0": "2018-12-01",
          "x1": "2018-12-01",
          "y0": 0,
          "y1": 1
         },
         {
          "line": {
           "color": "black",
           "dash": "solid",
           "width": 1
          },
          "type": "line",
          "x0": "2019-01-01",
          "x1": "2019-01-01",
          "y0": 0,
          "y1": 1
         },
         {
          "line": {
           "color": "black",
           "dash": "dash",
           "width": 1
          },
          "type": "line",
          "x0": "2019-02-01",
          "x1": "2019-02-01",
          "y0": 0,
          "y1": 1
         },
         {
          "line": {
           "color": "black",
           "dash": "solid",
           "width": 1
          },
          "type": "line",
          "x0": "2019-03-01",
          "x1": "2019-03-01",
          "y0": 0,
          "y1": 1
         },
         {
          "line": {
           "color": "black",
           "dash": "dash",
           "width": 1
          },
          "type": "line",
          "x0": "2019-04-01",
          "x1": "2019-04-01",
          "y0": 0,
          "y1": 1
         },
         {
          "line": {
           "color": "black",
           "dash": "solid",
           "width": 1
          },
          "type": "line",
          "x0": "2019-05-01",
          "x1": "2019-05-01",
          "y0": 0,
          "y1": 1
         },
         {
          "line": {
           "color": "black",
           "dash": "dash",
           "width": 1
          },
          "type": "line",
          "x0": "2019-06-01",
          "x1": "2019-06-01",
          "y0": 0,
          "y1": 1
         },
         {
          "line": {
           "color": "black",
           "dash": "solid",
           "width": 1
          },
          "type": "line",
          "x0": "2019-07-01",
          "x1": "2019-07-01",
          "y0": 0,
          "y1": 1
         },
         {
          "line": {
           "color": "black",
           "dash": "dash",
           "width": 1
          },
          "type": "line",
          "x0": "2019-08-01",
          "x1": "2019-08-01",
          "y0": 0,
          "y1": 1
         },
         {
          "line": {
           "color": "black",
           "dash": "solid",
           "width": 1
          },
          "type": "line",
          "x0": "2019-09-01",
          "x1": "2019-09-01",
          "y0": 0,
          "y1": 1
         },
         {
          "line": {
           "color": "black",
           "dash": "dash",
           "width": 1
          },
          "type": "line",
          "x0": "2019-10-01",
          "x1": "2019-10-01",
          "y0": 0,
          "y1": 1
         },
         {
          "line": {
           "color": "black",
           "dash": "solid",
           "width": 1
          },
          "type": "line",
          "x0": "2019-11-01",
          "x1": "2019-11-01",
          "y0": 0,
          "y1": 1
         },
         {
          "line": {
           "color": "black",
           "dash": "dash",
           "width": 1
          },
          "type": "line",
          "x0": "2019-12-01",
          "x1": "2019-12-01",
          "y0": 0,
          "y1": 1
         },
         {
          "line": {
           "color": "black",
           "dash": "solid",
           "width": 1
          },
          "type": "line",
          "x0": "2020-01-01",
          "x1": "2020-01-01",
          "y0": 0,
          "y1": 1
         },
         {
          "line": {
           "color": "black",
           "dash": "dash",
           "width": 1
          },
          "type": "line",
          "x0": "2020-02-01",
          "x1": "2020-02-01",
          "y0": 0,
          "y1": 1
         },
         {
          "line": {
           "color": "black",
           "dash": "solid",
           "width": 1
          },
          "type": "line",
          "x0": "2020-03-01",
          "x1": "2020-03-01",
          "y0": 0,
          "y1": 1
         },
         {
          "line": {
           "color": "black",
           "dash": "dash",
           "width": 1
          },
          "type": "line",
          "x0": "2020-04-01",
          "x1": "2020-04-01",
          "y0": 0,
          "y1": 1
         },
         {
          "line": {
           "color": "black",
           "dash": "solid",
           "width": 1
          },
          "type": "line",
          "x0": "2020-05-01",
          "x1": "2020-05-01",
          "y0": 0,
          "y1": 1
         },
         {
          "line": {
           "color": "black",
           "dash": "dash",
           "width": 1
          },
          "type": "line",
          "x0": "2020-06-01",
          "x1": "2020-06-01",
          "y0": 0,
          "y1": 1
         },
         {
          "line": {
           "color": "black",
           "dash": "solid",
           "width": 1
          },
          "type": "line",
          "x0": "2020-07-01",
          "x1": "2020-07-01",
          "y0": 0,
          "y1": 1
         },
         {
          "line": {
           "color": "black",
           "dash": "dash",
           "width": 1
          },
          "type": "line",
          "x0": "2020-08-01",
          "x1": "2020-08-01",
          "y0": 0,
          "y1": 1
         },
         {
          "line": {
           "color": "black",
           "dash": "solid",
           "width": 1
          },
          "type": "line",
          "x0": "2020-09-01",
          "x1": "2020-09-01",
          "y0": 0,
          "y1": 1
         },
         {
          "line": {
           "color": "black",
           "dash": "dash",
           "width": 1
          },
          "type": "line",
          "x0": "2020-10-01",
          "x1": "2020-10-01",
          "y0": 0,
          "y1": 1
         },
         {
          "line": {
           "color": "black",
           "dash": "solid",
           "width": 1
          },
          "type": "line",
          "x0": "2020-11-01",
          "x1": "2020-11-01",
          "y0": 0,
          "y1": 1
         },
         {
          "line": {
           "color": "black",
           "dash": "dash",
           "width": 1
          },
          "type": "line",
          "x0": "2020-12-01",
          "x1": "2020-12-01",
          "y0": 0,
          "y1": 1
         },
         {
          "line": {
           "color": "black",
           "dash": "solid",
           "width": 1
          },
          "type": "line",
          "x0": "2021-01-01",
          "x1": "2021-01-01",
          "y0": 0,
          "y1": 1
         },
         {
          "line": {
           "color": "black",
           "dash": "dash",
           "width": 1
          },
          "type": "line",
          "x0": "2021-02-01",
          "x1": "2021-02-01",
          "y0": 0,
          "y1": 1
         },
         {
          "line": {
           "color": "black",
           "dash": "solid",
           "width": 1
          },
          "type": "line",
          "x0": "2021-03-01",
          "x1": "2021-03-01",
          "y0": 0,
          "y1": 1
         },
         {
          "line": {
           "color": "black",
           "dash": "dash",
           "width": 1
          },
          "type": "line",
          "x0": "2021-04-01",
          "x1": "2021-04-01",
          "y0": 0,
          "y1": 1
         },
         {
          "line": {
           "color": "black",
           "dash": "solid",
           "width": 1
          },
          "type": "line",
          "x0": "2021-05-01",
          "x1": "2021-05-01",
          "y0": 0,
          "y1": 1
         },
         {
          "line": {
           "color": "black",
           "dash": "dash",
           "width": 1
          },
          "type": "line",
          "x0": "2021-06-01",
          "x1": "2021-06-01",
          "y0": 0,
          "y1": 1
         },
         {
          "line": {
           "color": "black",
           "dash": "solid",
           "width": 1
          },
          "type": "line",
          "x0": "2021-07-01",
          "x1": "2021-07-01",
          "y0": 0,
          "y1": 1
         },
         {
          "line": {
           "color": "black",
           "dash": "dash",
           "width": 1
          },
          "type": "line",
          "x0": "2021-08-01",
          "x1": "2021-08-01",
          "y0": 0,
          "y1": 1
         },
         {
          "line": {
           "color": "black",
           "dash": "solid",
           "width": 1
          },
          "type": "line",
          "x0": "2021-09-01",
          "x1": "2021-09-01",
          "y0": 0,
          "y1": 1
         },
         {
          "line": {
           "color": "black",
           "dash": "dash",
           "width": 1
          },
          "type": "line",
          "x0": "2021-10-01",
          "x1": "2021-10-01",
          "y0": 0,
          "y1": 1
         },
         {
          "line": {
           "color": "black",
           "dash": "solid",
           "width": 1
          },
          "type": "line",
          "x0": "2021-11-01",
          "x1": "2021-11-01",
          "y0": 0,
          "y1": 1
         },
         {
          "line": {
           "color": "black",
           "dash": "dash",
           "width": 1
          },
          "type": "line",
          "x0": "2021-12-01",
          "x1": "2021-12-01",
          "y0": 0,
          "y1": 1
         },
         {
          "line": {
           "color": "black",
           "dash": "solid",
           "width": 1
          },
          "type": "line",
          "x0": "2022-01-01",
          "x1": "2022-01-01",
          "y0": 0,
          "y1": 1
         },
         {
          "line": {
           "color": "black",
           "dash": "dash",
           "width": 1
          },
          "type": "line",
          "x0": "2022-02-01",
          "x1": "2022-02-01",
          "y0": 0,
          "y1": 1
         },
         {
          "line": {
           "color": "black",
           "dash": "solid",
           "width": 1
          },
          "type": "line",
          "x0": "2022-03-01",
          "x1": "2022-03-01",
          "y0": 0,
          "y1": 1
         },
         {
          "line": {
           "color": "black",
           "dash": "dash",
           "width": 1
          },
          "type": "line",
          "x0": "2022-04-01",
          "x1": "2022-04-01",
          "y0": 0,
          "y1": 1
         },
         {
          "line": {
           "color": "black",
           "dash": "solid",
           "width": 1
          },
          "type": "line",
          "x0": "2022-05-01",
          "x1": "2022-05-01",
          "y0": 0,
          "y1": 1
         },
         {
          "line": {
           "color": "black",
           "dash": "dash",
           "width": 1
          },
          "type": "line",
          "x0": "2022-06-01",
          "x1": "2022-06-01",
          "y0": 0,
          "y1": 1
         },
         {
          "line": {
           "color": "black",
           "dash": "solid",
           "width": 1
          },
          "type": "line",
          "x0": "2022-07-01",
          "x1": "2022-07-01",
          "y0": 0,
          "y1": 1
         },
         {
          "line": {
           "color": "black",
           "dash": "dash",
           "width": 1
          },
          "type": "line",
          "x0": "2022-08-01",
          "x1": "2022-08-01",
          "y0": 0,
          "y1": 1
         },
         {
          "line": {
           "color": "black",
           "dash": "solid",
           "width": 1
          },
          "type": "line",
          "x0": "2022-09-01",
          "x1": "2022-09-01",
          "y0": 0,
          "y1": 1
         },
         {
          "line": {
           "color": "black",
           "dash": "dash",
           "width": 1
          },
          "type": "line",
          "x0": "2022-10-01",
          "x1": "2022-10-01",
          "y0": 0,
          "y1": 1
         },
         {
          "line": {
           "color": "black",
           "dash": "solid",
           "width": 1
          },
          "type": "line",
          "x0": "2022-11-01",
          "x1": "2022-11-01",
          "y0": 0,
          "y1": 1
         },
         {
          "line": {
           "color": "black",
           "dash": "dash",
           "width": 1
          },
          "type": "line",
          "x0": "2022-12-01",
          "x1": "2022-12-01",
          "y0": 0,
          "y1": 1
         },
         {
          "line": {
           "color": "black",
           "dash": "solid",
           "width": 1
          },
          "type": "line",
          "x0": "2023-01-01",
          "x1": "2023-01-01",
          "y0": 0,
          "y1": 1
         },
         {
          "line": {
           "color": "black",
           "dash": "dash",
           "width": 1
          },
          "type": "line",
          "x0": "2023-02-01",
          "x1": "2023-02-01",
          "y0": 0,
          "y1": 1
         },
         {
          "line": {
           "color": "black",
           "dash": "solid",
           "width": 1
          },
          "type": "line",
          "x0": "2023-03-01",
          "x1": "2023-03-01",
          "y0": 0,
          "y1": 1
         },
         {
          "line": {
           "color": "black",
           "dash": "dash",
           "width": 1
          },
          "type": "line",
          "x0": "2023-04-01",
          "x1": "2023-04-01",
          "y0": 0,
          "y1": 1
         }
        ],
        "template": {
         "data": {
          "bar": [
           {
            "error_x": {
             "color": "#2a3f5f"
            },
            "error_y": {
             "color": "#2a3f5f"
            },
            "marker": {
             "line": {
              "color": "#E5ECF6",
              "width": 0.5
             },
             "pattern": {
              "fillmode": "overlay",
              "size": 10,
              "solidity": 0.2
             }
            },
            "type": "bar"
           }
          ],
          "barpolar": [
           {
            "marker": {
             "line": {
              "color": "#E5ECF6",
              "width": 0.5
             },
             "pattern": {
              "fillmode": "overlay",
              "size": 10,
              "solidity": 0.2
             }
            },
            "type": "barpolar"
           }
          ],
          "carpet": [
           {
            "aaxis": {
             "endlinecolor": "#2a3f5f",
             "gridcolor": "white",
             "linecolor": "white",
             "minorgridcolor": "white",
             "startlinecolor": "#2a3f5f"
            },
            "baxis": {
             "endlinecolor": "#2a3f5f",
             "gridcolor": "white",
             "linecolor": "white",
             "minorgridcolor": "white",
             "startlinecolor": "#2a3f5f"
            },
            "type": "carpet"
           }
          ],
          "choropleth": [
           {
            "colorbar": {
             "outlinewidth": 0,
             "ticks": ""
            },
            "type": "choropleth"
           }
          ],
          "contour": [
           {
            "colorbar": {
             "outlinewidth": 0,
             "ticks": ""
            },
            "colorscale": [
             [
              0,
              "#0d0887"
             ],
             [
              0.1111111111111111,
              "#46039f"
             ],
             [
              0.2222222222222222,
              "#7201a8"
             ],
             [
              0.3333333333333333,
              "#9c179e"
             ],
             [
              0.4444444444444444,
              "#bd3786"
             ],
             [
              0.5555555555555556,
              "#d8576b"
             ],
             [
              0.6666666666666666,
              "#ed7953"
             ],
             [
              0.7777777777777778,
              "#fb9f3a"
             ],
             [
              0.8888888888888888,
              "#fdca26"
             ],
             [
              1,
              "#f0f921"
             ]
            ],
            "type": "contour"
           }
          ],
          "contourcarpet": [
           {
            "colorbar": {
             "outlinewidth": 0,
             "ticks": ""
            },
            "type": "contourcarpet"
           }
          ],
          "heatmap": [
           {
            "colorbar": {
             "outlinewidth": 0,
             "ticks": ""
            },
            "colorscale": [
             [
              0,
              "#0d0887"
             ],
             [
              0.1111111111111111,
              "#46039f"
             ],
             [
              0.2222222222222222,
              "#7201a8"
             ],
             [
              0.3333333333333333,
              "#9c179e"
             ],
             [
              0.4444444444444444,
              "#bd3786"
             ],
             [
              0.5555555555555556,
              "#d8576b"
             ],
             [
              0.6666666666666666,
              "#ed7953"
             ],
             [
              0.7777777777777778,
              "#fb9f3a"
             ],
             [
              0.8888888888888888,
              "#fdca26"
             ],
             [
              1,
              "#f0f921"
             ]
            ],
            "type": "heatmap"
           }
          ],
          "heatmapgl": [
           {
            "colorbar": {
             "outlinewidth": 0,
             "ticks": ""
            },
            "colorscale": [
             [
              0,
              "#0d0887"
             ],
             [
              0.1111111111111111,
              "#46039f"
             ],
             [
              0.2222222222222222,
              "#7201a8"
             ],
             [
              0.3333333333333333,
              "#9c179e"
             ],
             [
              0.4444444444444444,
              "#bd3786"
             ],
             [
              0.5555555555555556,
              "#d8576b"
             ],
             [
              0.6666666666666666,
              "#ed7953"
             ],
             [
              0.7777777777777778,
              "#fb9f3a"
             ],
             [
              0.8888888888888888,
              "#fdca26"
             ],
             [
              1,
              "#f0f921"
             ]
            ],
            "type": "heatmapgl"
           }
          ],
          "histogram": [
           {
            "marker": {
             "pattern": {
              "fillmode": "overlay",
              "size": 10,
              "solidity": 0.2
             }
            },
            "type": "histogram"
           }
          ],
          "histogram2d": [
           {
            "colorbar": {
             "outlinewidth": 0,
             "ticks": ""
            },
            "colorscale": [
             [
              0,
              "#0d0887"
             ],
             [
              0.1111111111111111,
              "#46039f"
             ],
             [
              0.2222222222222222,
              "#7201a8"
             ],
             [
              0.3333333333333333,
              "#9c179e"
             ],
             [
              0.4444444444444444,
              "#bd3786"
             ],
             [
              0.5555555555555556,
              "#d8576b"
             ],
             [
              0.6666666666666666,
              "#ed7953"
             ],
             [
              0.7777777777777778,
              "#fb9f3a"
             ],
             [
              0.8888888888888888,
              "#fdca26"
             ],
             [
              1,
              "#f0f921"
             ]
            ],
            "type": "histogram2d"
           }
          ],
          "histogram2dcontour": [
           {
            "colorbar": {
             "outlinewidth": 0,
             "ticks": ""
            },
            "colorscale": [
             [
              0,
              "#0d0887"
             ],
             [
              0.1111111111111111,
              "#46039f"
             ],
             [
              0.2222222222222222,
              "#7201a8"
             ],
             [
              0.3333333333333333,
              "#9c179e"
             ],
             [
              0.4444444444444444,
              "#bd3786"
             ],
             [
              0.5555555555555556,
              "#d8576b"
             ],
             [
              0.6666666666666666,
              "#ed7953"
             ],
             [
              0.7777777777777778,
              "#fb9f3a"
             ],
             [
              0.8888888888888888,
              "#fdca26"
             ],
             [
              1,
              "#f0f921"
             ]
            ],
            "type": "histogram2dcontour"
           }
          ],
          "mesh3d": [
           {
            "colorbar": {
             "outlinewidth": 0,
             "ticks": ""
            },
            "type": "mesh3d"
           }
          ],
          "parcoords": [
           {
            "line": {
             "colorbar": {
              "outlinewidth": 0,
              "ticks": ""
             }
            },
            "type": "parcoords"
           }
          ],
          "pie": [
           {
            "automargin": true,
            "type": "pie"
           }
          ],
          "scatter": [
           {
            "fillpattern": {
             "fillmode": "overlay",
             "size": 10,
             "solidity": 0.2
            },
            "type": "scatter"
           }
          ],
          "scatter3d": [
           {
            "line": {
             "colorbar": {
              "outlinewidth": 0,
              "ticks": ""
             }
            },
            "marker": {
             "colorbar": {
              "outlinewidth": 0,
              "ticks": ""
             }
            },
            "type": "scatter3d"
           }
          ],
          "scattercarpet": [
           {
            "marker": {
             "colorbar": {
              "outlinewidth": 0,
              "ticks": ""
             }
            },
            "type": "scattercarpet"
           }
          ],
          "scattergeo": [
           {
            "marker": {
             "colorbar": {
              "outlinewidth": 0,
              "ticks": ""
             }
            },
            "type": "scattergeo"
           }
          ],
          "scattergl": [
           {
            "marker": {
             "colorbar": {
              "outlinewidth": 0,
              "ticks": ""
             }
            },
            "type": "scattergl"
           }
          ],
          "scattermapbox": [
           {
            "marker": {
             "colorbar": {
              "outlinewidth": 0,
              "ticks": ""
             }
            },
            "type": "scattermapbox"
           }
          ],
          "scatterpolar": [
           {
            "marker": {
             "colorbar": {
              "outlinewidth": 0,
              "ticks": ""
             }
            },
            "type": "scatterpolar"
           }
          ],
          "scatterpolargl": [
           {
            "marker": {
             "colorbar": {
              "outlinewidth": 0,
              "ticks": ""
             }
            },
            "type": "scatterpolargl"
           }
          ],
          "scatterternary": [
           {
            "marker": {
             "colorbar": {
              "outlinewidth": 0,
              "ticks": ""
             }
            },
            "type": "scatterternary"
           }
          ],
          "surface": [
           {
            "colorbar": {
             "outlinewidth": 0,
             "ticks": ""
            },
            "colorscale": [
             [
              0,
              "#0d0887"
             ],
             [
              0.1111111111111111,
              "#46039f"
             ],
             [
              0.2222222222222222,
              "#7201a8"
             ],
             [
              0.3333333333333333,
              "#9c179e"
             ],
             [
              0.4444444444444444,
              "#bd3786"
             ],
             [
              0.5555555555555556,
              "#d8576b"
             ],
             [
              0.6666666666666666,
              "#ed7953"
             ],
             [
              0.7777777777777778,
              "#fb9f3a"
             ],
             [
              0.8888888888888888,
              "#fdca26"
             ],
             [
              1,
              "#f0f921"
             ]
            ],
            "type": "surface"
           }
          ],
          "table": [
           {
            "cells": {
             "fill": {
              "color": "#EBF0F8"
             },
             "line": {
              "color": "white"
             }
            },
            "header": {
             "fill": {
              "color": "#C8D4E3"
             },
             "line": {
              "color": "white"
             }
            },
            "type": "table"
           }
          ]
         },
         "layout": {
          "annotationdefaults": {
           "arrowcolor": "#2a3f5f",
           "arrowhead": 0,
           "arrowwidth": 1
          },
          "autotypenumbers": "strict",
          "coloraxis": {
           "colorbar": {
            "outlinewidth": 0,
            "ticks": ""
           }
          },
          "colorscale": {
           "diverging": [
            [
             0,
             "#8e0152"
            ],
            [
             0.1,
             "#c51b7d"
            ],
            [
             0.2,
             "#de77ae"
            ],
            [
             0.3,
             "#f1b6da"
            ],
            [
             0.4,
             "#fde0ef"
            ],
            [
             0.5,
             "#f7f7f7"
            ],
            [
             0.6,
             "#e6f5d0"
            ],
            [
             0.7,
             "#b8e186"
            ],
            [
             0.8,
             "#7fbc41"
            ],
            [
             0.9,
             "#4d9221"
            ],
            [
             1,
             "#276419"
            ]
           ],
           "sequential": [
            [
             0,
             "#0d0887"
            ],
            [
             0.1111111111111111,
             "#46039f"
            ],
            [
             0.2222222222222222,
             "#7201a8"
            ],
            [
             0.3333333333333333,
             "#9c179e"
            ],
            [
             0.4444444444444444,
             "#bd3786"
            ],
            [
             0.5555555555555556,
             "#d8576b"
            ],
            [
             0.6666666666666666,
             "#ed7953"
            ],
            [
             0.7777777777777778,
             "#fb9f3a"
            ],
            [
             0.8888888888888888,
             "#fdca26"
            ],
            [
             1,
             "#f0f921"
            ]
           ],
           "sequentialminus": [
            [
             0,
             "#0d0887"
            ],
            [
             0.1111111111111111,
             "#46039f"
            ],
            [
             0.2222222222222222,
             "#7201a8"
            ],
            [
             0.3333333333333333,
             "#9c179e"
            ],
            [
             0.4444444444444444,
             "#bd3786"
            ],
            [
             0.5555555555555556,
             "#d8576b"
            ],
            [
             0.6666666666666666,
             "#ed7953"
            ],
            [
             0.7777777777777778,
             "#fb9f3a"
            ],
            [
             0.8888888888888888,
             "#fdca26"
            ],
            [
             1,
             "#f0f921"
            ]
           ]
          },
          "colorway": [
           "#636efa",
           "#EF553B",
           "#00cc96",
           "#ab63fa",
           "#FFA15A",
           "#19d3f3",
           "#FF6692",
           "#B6E880",
           "#FF97FF",
           "#FECB52"
          ],
          "font": {
           "color": "#2a3f5f"
          },
          "geo": {
           "bgcolor": "white",
           "lakecolor": "white",
           "landcolor": "#E5ECF6",
           "showlakes": true,
           "showland": true,
           "subunitcolor": "white"
          },
          "hoverlabel": {
           "align": "left"
          },
          "hovermode": "closest",
          "mapbox": {
           "style": "light"
          },
          "paper_bgcolor": "white",
          "plot_bgcolor": "#E5ECF6",
          "polar": {
           "angularaxis": {
            "gridcolor": "white",
            "linecolor": "white",
            "ticks": ""
           },
           "bgcolor": "#E5ECF6",
           "radialaxis": {
            "gridcolor": "white",
            "linecolor": "white",
            "ticks": ""
           }
          },
          "scene": {
           "xaxis": {
            "backgroundcolor": "#E5ECF6",
            "gridcolor": "white",
            "gridwidth": 2,
            "linecolor": "white",
            "showbackground": true,
            "ticks": "",
            "zerolinecolor": "white"
           },
           "yaxis": {
            "backgroundcolor": "#E5ECF6",
            "gridcolor": "white",
            "gridwidth": 2,
            "linecolor": "white",
            "showbackground": true,
            "ticks": "",
            "zerolinecolor": "white"
           },
           "zaxis": {
            "backgroundcolor": "#E5ECF6",
            "gridcolor": "white",
            "gridwidth": 2,
            "linecolor": "white",
            "showbackground": true,
            "ticks": "",
            "zerolinecolor": "white"
           }
          },
          "shapedefaults": {
           "line": {
            "color": "#2a3f5f"
           }
          },
          "ternary": {
           "aaxis": {
            "gridcolor": "white",
            "linecolor": "white",
            "ticks": ""
           },
           "baxis": {
            "gridcolor": "white",
            "linecolor": "white",
            "ticks": ""
           },
           "bgcolor": "#E5ECF6",
           "caxis": {
            "gridcolor": "white",
            "linecolor": "white",
            "ticks": ""
           }
          },
          "title": {
           "x": 0.05
          },
          "xaxis": {
           "automargin": true,
           "gridcolor": "white",
           "linecolor": "white",
           "ticks": "",
           "title": {
            "standoff": 15
           },
           "zerolinecolor": "white",
           "zerolinewidth": 2
          },
          "yaxis": {
           "automargin": true,
           "gridcolor": "white",
           "linecolor": "white",
           "ticks": "",
           "title": {
            "standoff": 15
           },
           "zerolinecolor": "white",
           "zerolinewidth": 2
          }
         }
        },
        "xaxis": {
         "tickangle": 45,
         "tickfont": {
          "size": 12
         },
         "tickformat": "%Y-%m-%d"
        },
        "yaxis": {
         "tickfont": {
          "size": 20
         },
         "title": {
          "font": {
           "size": 20
          }
         }
        }
       }
      }
     },
     "metadata": {},
     "output_type": "display_data"
    }
   ],
   "source": [
    "# Plot the data using Plotly\n",
    "import plotly.graph_objects as go\n",
    "fig = go.Figure()\n",
    "\n",
    "# Add actual data\n",
    "fig.add_trace(go.Scatter(\n",
    "    x=data_fts_result['date'], y=data_fts_result['actual'], mode='lines', name='Actual'))\n",
    "\n",
    "# Add forecast data\n",
    "fig.add_trace(go.Scatter(\n",
    "    x=data_fts_result['date'], y=data_fts_result['prediction'], mode='lines', name='Forecast'))\n",
    "\n",
    "# Set layout\n",
    "fig.update_layout(\n",
    "    xaxis=dict(\n",
    "        tickangle=45,\n",
    "        tickfont=dict(size=12),\n",
    "        tickformat='%Y-%m-%d'\n",
    "    ),\n",
    "    yaxis=dict(\n",
    "        title_font=dict(size=20),\n",
    "        tickfont=dict(size=20)\n",
    "    ),\n",
    "    legend=dict(\n",
    "        x=1,\n",
    "        y=0,\n",
    "        xanchor='right',\n",
    "        yanchor='bottom',\n",
    "        font=dict(size=12)\n",
    "    )\n",
    ")\n",
    "\n",
    "# Add vertical lines with alternating styles\n",
    "for i in range(len(fts_dates)):\n",
    "    if i % 2 == 0:\n",
    "        fig.add_shape(type='line', x0=fts_dates[i], y0=0, x1=fts_dates[i], y1=1, line=dict(\n",
    "            color='black', width=1, dash='solid'))\n",
    "    else:\n",
    "        fig.add_shape(type='line', x0=fts_dates[i], y0=0, x1=fts_dates[i], y1=1, line=dict(\n",
    "            color='black', width=1, dash='dash'))\n",
    "\n",
    "fig.show()"
   ]
  },
  {
   "cell_type": "code",
   "execution_count": 21,
   "id": "bc09c87d",
   "metadata": {},
   "outputs": [
    {
     "name": "stdout",
     "output_type": "stream",
     "text": [
      "RMSE :  1499104836.3501062\n",
      "MAPE :  8.293856877325293\n"
     ]
    }
   ],
   "source": [
    "# show model performance\n",
    "from pyFTS.benchmarks import Measures\n",
    "\n",
    "print(\"RMSE : \", Measures.rmse(data_fts_result['actual'], data_fts_result['prediction']))\n",
    "print(\"MAPE : \", Measures.mape(data_fts_result['actual'], data_fts_result['prediction']))"
   ]
  }
 ],
 "metadata": {
  "kernelspec": {
   "display_name": "Python 3",
   "language": "python",
   "name": "python3"
  },
  "language_info": {
   "codemirror_mode": {
    "name": "ipython",
    "version": 3
   },
   "file_extension": ".py",
   "mimetype": "text/x-python",
   "name": "python",
   "nbconvert_exporter": "python",
   "pygments_lexer": "ipython3",
   "version": "3.10.6"
  }
 },
 "nbformat": 4,
 "nbformat_minor": 5
}
